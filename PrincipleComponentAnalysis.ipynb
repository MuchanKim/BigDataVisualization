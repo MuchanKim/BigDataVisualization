{
  "nbformat": 4,
  "nbformat_minor": 0,
  "metadata": {
    "colab": {
      "provenance": [],
      "authorship_tag": "ABX9TyNJotKwXfXtGOGxkwQseodI"
    },
    "kernelspec": {
      "name": "python3",
      "display_name": "Python 3"
    },
    "language_info": {
      "name": "python"
    }
  },
  "cells": [
    {
      "cell_type": "markdown",
      "source": [
        "## Principle Component Analysis (주성분 분석), PCA\n",
        "\n",
        "- 특성추출의 대표적인 기법으로, 입력 변수들을 선형 변환하는 비지도 학습 방법.\n",
        "- 다차원 데이터를 저차원 공간으로 변환하여 데이터의 구조를 파악하는 기법으로 많이 사용되는 차원 축소 기술."
      ],
      "metadata": {
        "id": "0_AwzjkgqUSG"
      }
    },
    {
      "cell_type": "code",
      "execution_count": 1,
      "metadata": {
        "id": "kQkILjMFoulj"
      },
      "outputs": [],
      "source": [
        "# PCA\n",
        "from sklearn.decomposition import PCA\n",
        "from sklearn.preprocessing import StandardScaler\n",
        "\n",
        "import pandas as pd\n",
        "import numpy as np\n",
        "import matplotlib.pyplot as plt"
      ]
    },
    {
      "cell_type": "code",
      "source": [
        "# 데이터 작성 - X1, X2로 구성되는 5개 리스트를 배열로 선언\n",
        "X = np.array([[50, 73], [65, 75], [75, 80], [80,82], [95, 85]])\n",
        "X"
      ],
      "metadata": {
        "colab": {
          "base_uri": "https://localhost:8080/"
        },
        "id": "n-SJgcIBsWDr",
        "outputId": "25e625ce-be2f-4a48-90f1-8bea116ee226"
      },
      "execution_count": 4,
      "outputs": [
        {
          "output_type": "execute_result",
          "data": {
            "text/plain": [
              "array([[50, 73],\n",
              "       [65, 75],\n",
              "       [75, 80],\n",
              "       [80, 82],\n",
              "       [95, 85]])"
            ]
          },
          "metadata": {},
          "execution_count": 4
        }
      ]
    },
    {
      "cell_type": "markdown",
      "source": [
        "### 탐색적 데이터 분석\n",
        "- X1 변수의 데이터 분포는 크고, X2는 작게 나타남."
      ],
      "metadata": {
        "id": "C2MzKif0wKGZ"
      }
    },
    {
      "cell_type": "code",
      "source": [
        "# 탐색적 데이터 분석\n",
        "plt.scatter(X[:,0], X[:,1])\n",
        "plt.xlabel('X1')\n",
        "plt.ylabel('X2')\n",
        "plt.xlim(0, 100)\n",
        "plt.ylim(0, 100)"
      ],
      "metadata": {
        "colab": {
          "base_uri": "https://localhost:8080/",
          "height": 473
        },
        "id": "PjKPlbxPuovR",
        "outputId": "373669a1-71f6-4f6d-fdab-17abbba73605"
      },
      "execution_count": 5,
      "outputs": [
        {
          "output_type": "execute_result",
          "data": {
            "text/plain": [
              "(0.0, 100.0)"
            ]
          },
          "metadata": {},
          "execution_count": 5
        },
        {
          "output_type": "display_data",
          "data": {
            "text/plain": [
              "<Figure size 640x480 with 1 Axes>"
            ],
            "image/png": "[encoded data removed]"
          },
          "metadata": {}
        }
      ]
    },
    {
      "cell_type": "code",
      "source": [
        "# 열별 평균\n",
        "print(np.mean(X, axis=0))\n",
        "# 열별 분산\n",
        "print(np.var(X, axis=0))"
      ],
      "metadata": {
        "colab": {
          "base_uri": "https://localhost:8080/"
        },
        "id": "_gQpP24pvV-v",
        "outputId": "198c8d8a-879e-4d32-89cf-524c68bcf8aa"
      },
      "execution_count": 6,
      "outputs": [
        {
          "output_type": "stream",
          "name": "stdout",
          "text": [
            "[73. 79.]\n",
            "[226.   19.6]\n"
          ]
        }
      ]
    },
    {
      "cell_type": "markdown",
      "source": [
        "### 피처 스케일링\n",
        "- X1, X2 변수에 대해 표준화하고 산포도로 전체적인 분포를 파악한다.\n",
        "- 표준화딘 변수의 평균은 0, 분산은 모두 1이 된다."
      ],
      "metadata": {
        "id": "hnsm-ed0w2w4"
      }
    },
    {
      "cell_type": "code",
      "source": [
        "# 데이터 표준화\n",
        "scalerX = StandardScaler() # 표준화 스케일러 객체 생성\n",
        "scalerX.fit(X) # 표준화 스케일러를 x의 각 열에 기준을 맞춤\n",
        "X_std = scalerX.transform(X) # x의 각 열을 표준화로 변환\n",
        "\n",
        "print(X_std)"
      ],
      "metadata": {
        "colab": {
          "base_uri": "https://localhost:8080/"
        },
        "id": "gNpXb5npv-f3",
        "outputId": "aa643390-384e-464b-e34c-0115ca1c9edc"
      },
      "execution_count": 9,
      "outputs": [
        {
          "output_type": "stream",
          "name": "stdout",
          "text": [
            "[[-1.52993724 -1.35526185]\n",
            " [-0.53215208 -0.9035079 ]\n",
            " [ 0.13303802  0.22587698]\n",
            " [ 0.46563307  0.67763093]\n",
            " [ 1.46341823  1.35526185]]\n"
          ]
        }
      ]
    },
    {
      "cell_type": "code",
      "source": [],
      "metadata": {
        "id": "v1m6wKWrxXoe"
      },
      "execution_count": null,
      "outputs": []
    }
  ]
}